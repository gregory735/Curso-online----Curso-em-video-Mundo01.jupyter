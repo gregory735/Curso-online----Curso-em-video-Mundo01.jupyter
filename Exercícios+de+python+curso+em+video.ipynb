{
 "cells": [
  {
   "cell_type": "markdown",
   "metadata": {},
   "source": [
    "# EX01 Olá mundo\n",
    "\n",
    "\n",
    "#entrada\n",
    "msg = input('digite sua mensagem:')\n",
    "\n",
    "#saida\n",
    "print('sua mensagem é: {}'.format(msg))"
   ]
  },
  {
   "cell_type": "markdown",
   "metadata": {},
   "source": [
    "# EX02 Respondendo ao usuário\n",
    "\n",
    "\n",
    "#entrada\n",
    "msg = input('Digite seu nome:')\n",
    "\n",
    "#saida\n",
    "print('Seja Bem-vindo Sr(a) {}'.format(msg))"
   ]
  },
  {
   "cell_type": "markdown",
   "metadata": {},
   "source": [
    "# EX03 Somando dois números\n",
    "\n",
    "\n",
    "#entrada\n",
    "n1 = float(input('Digite o primeiro valor:'))\n",
    "n2 = float(input('Digite o segundo valor:'))\n",
    "\n",
    "#processamento\n",
    "soma = n1 + n2\n",
    "\n",
    "#saida\n",
    "print('O resultado da soma é de: {}'.format(soma))\n"
   ]
  },
  {
   "cell_type": "markdown",
   "metadata": {},
   "source": [
    "# EX04 Analise de variável\n",
    "\n",
    "\n",
    "#entrada\n",
    "dgt = input('Digite algo:')\n",
    "\n",
    "\n",
    "#saida\n",
    "print('O tipo desse valor é:',type(dgt))\n",
    "print('tem espaço?{}'.format(dgt.isspace()))\n",
    "print('é um número?',dgt.isnumeric())\n",
    "print('é alfabético?',dgt.isalpha())\n",
    "print('é alfanumérico?',dgt.isalnum())\n",
    "print('está em maiuscula?',dgt.isupper())\n",
    "print('está em minuscula?',dgt.islower())\n",
    "print('está capitalizada?',dgt.istitle())"
   ]
  },
  {
   "cell_type": "markdown",
   "metadata": {},
   "source": [
    "# EX05 Antecessor e Sucessor\n",
    "\n",
    "\n",
    "#entrada\n",
    "n = int(input('Digite um valor qualquer:'))\n",
    "\n",
    "#processamento\n",
    "antecessor = n - 1\n",
    "sucessor = n + 1\n",
    "\n",
    "#saida\n",
    "print('O seu número é: {}, seu sucessor é: {} e seu antecessor é: {}'.format(n,sucessor,antecessor))"
   ]
  },
  {
   "cell_type": "markdown",
   "metadata": {},
   "source": [
    "# EX06 Dobro, Triplo e Raiz Quadrada\n",
    "\n",
    "import math\n",
    "\n",
    "#entrada\n",
    "n = int(input('Digite um valor qualquer:'))\n",
    "\n",
    "#processamento\n",
    "dobro = n * 2\n",
    "triplo = n * 3\n",
    "raiz_quadrada = math.sqrt(n)\n",
    "\n",
    "#saida\n",
    "print('O número que você escolheu é: {}\\nO dobro dele é: {}\\nO triplo é: {} \\nA raiz quadrada dele é: {}'.format(n,dobro,triplo,raiz_quadrada))\n"
   ]
  },
  {
   "cell_type": "markdown",
   "metadata": {},
   "source": [
    "# EX07 Média de 2 notas\n",
    "\n",
    "\n",
    "#entrada\n",
    "n1 = float(input('Digite a primeira nota:'))\n",
    "n2 = float(input('Digite a segunda nota:'))\n",
    "\n",
    "#processamento\n",
    "media = (n1 + n2) / 2\n",
    "\n",
    "#saida\n",
    "print('A media das notas {} e {} é de: {}'.format(n1,n2,media))"
   ]
  },
  {
   "cell_type": "markdown",
   "metadata": {},
   "source": [
    "# EX08 conversor de metros para centimetros e milimetros\n",
    "\n",
    "\n",
    "#entrada\n",
    "n = float(input('Digite um valor em metros:')) \n",
    "\n",
    "#processamento\n",
    "centimetros = n * 100\n",
    "milimetros = n * 1000\n",
    "\n",
    "#saida\n",
    "print('O valor que você escolheu foi: {}, Em centimetros é de: {} e em milimetros é de: {}'.format(n,centimetros,milimetros)b)"
   ]
  },
  {
   "cell_type": "markdown",
   "metadata": {},
   "source": [
    "# EX09 Tabuada de um valor\n",
    "\n",
    "\n",
    "#entrada\n",
    "n = int(input('Digite um número para ver sua tabuada:'))\n",
    "\n",
    "#processamento/saida\n",
    "for i in range (1,11):\n",
    "    tabuada = i * n\n",
    "    print('{} x {} = {}'.format(n,i,tabuada))"
   ]
  },
  {
   "cell_type": "markdown",
   "metadata": {},
   "source": [
    "# EX10 Conversor de reais para dolar (3,27)\n",
    "\n",
    "\n",
    "#entrada\n",
    "n = float(input('Digite quantos reais você tem em sua carteira:'))\n",
    "\n",
    "#processamento\n",
    "conversao = n / 3.27\n",
    "\n",
    "print('O valor que você tem é: {}, o dólar é de: 3.27, você pode comprar: {:.2f}$'.format(n,conversao))"
   ]
  },
  {
   "cell_type": "markdown",
   "metadata": {},
   "source": [
    "# EX11 Area da parede e quanta tinta necessario para pintar\n",
    "\n",
    "\n",
    "#entrada\n",
    "largura_parede = float(input('Digite a largura da sua parede:'))\n",
    "altura_parede = float(input('Digite a altura da sua parede:'))\n",
    "\n",
    "#processamento\n",
    "area_parede = largura_parede * altura_parede\n",
    "tinta_necessaria = area_parede / 2\n",
    "\n",
    "#saida\n",
    "print('A largura da sua parede é de: {}, a altura é de: {} e a area é de: {}'.format(largura_parede,altura_parede,area_parede))\n",
    "print('Será necessario: {}L de tinha para pinta-la'.format(tinta_necessaria))"
   ]
  },
  {
   "cell_type": "markdown",
   "metadata": {},
   "source": [
    "# EX12 Desconto de 5% de um produto\n",
    "\n",
    "\n",
    "#entrada\n",
    "preco_produto = float(input('Digite o preço do produto:'))\n",
    "\n",
    "#processamento\n",
    "desconto_produto = ( preco_produto * 5 ) / 100\n",
    "preco_desconto = preco_produto - desconto_produto\n",
    "\n",
    "#saida\n",
    "print('O produto que custa: {}R$ com 5% de desconto fica por: {}R$, você ganhou {}R$ de desconto.'.format (preco_produto,preco_desconto,desconto_produto))"
   ]
  },
  {
   "cell_type": "markdown",
   "metadata": {},
   "source": [
    "# EX13 Aumento de 15% de salário\n",
    "\n",
    "\n",
    "#entrada\n",
    "salario = float(input('Digite seu salário:'))\n",
    "\n",
    "#processamento\n",
    "aumento_salarial = (salario * 15) / 100 \n",
    "novo_salario = salario + aumento_salarial\n",
    "\n",
    "#saida\n",
    "print('Seu antigo salário era de: {} R$'.format(salario))\n",
    "print('Seu novo salário com 15% de aumento é de: {} R$, Aumento de {} R$'.format(novo_salario,aumento_salarial))"
   ]
  },
  {
   "cell_type": "markdown",
   "metadata": {
    "collapsed": true
   },
   "source": [
    "# EX14 Conversor de Celsius para Fahrenheit\n",
    "\n",
    "\n",
    "#entrada\n",
    "graus = float(input('Digite a temperatura em Celsius:'))\n",
    "\n",
    "#Processamento\n",
    "conversor = (graus / 5) * 9 + 32\n",
    "\n",
    "#saida\n",
    "print('A temperatura que você escolheu foi de {}°C e em Fahrenheit fica: {}°F'.format(graus,conversor))"
   ]
  },
  {
   "cell_type": "markdown",
   "metadata": {},
   "source": [
    "# EX15 Aluguel de carros\n",
    "\n",
    "\n",
    "#entrada\n",
    "km_corridos = float(input('Digite quantos km você rodou com o carro:'))\n",
    "dias_alugados = int(input('Digite quantos dias você ficou com o carro:'))\n",
    "\n",
    "#processamento\n",
    "valor = (60 * dias_alugados) + (km_corridos * 0.15)\n",
    "\n",
    "#saida\n",
    "print('Você correu {} km com o carro e ficou {} dias com ele.'.format(km_corridos,dias_alugados))\n",
    "print('O valor a ser pago é de: {} R$'.format(valor))"
   ]
  },
  {
   "cell_type": "markdown",
   "metadata": {},
   "source": [
    "# EX16 Porção Inteira de Número Flutuante\n",
    "\n",
    "from math import trunc\n",
    "\n",
    "#entrada\n",
    "n = float(input('Digite um número qualquer:'))\n",
    "\n",
    "#processamento/saida\n",
    "print('A porção inteiro do número {} é de: {}'.format(n,trunc(n)))"
   ]
  },
  {
   "cell_type": "markdown",
   "metadata": {},
   "source": [
    "# EX17 Catetos e Hipotenusas\n",
    "\n",
    "\n",
    "#entrada\n",
    "cateto_oposto = float(input(\"Digite o comprimento do cateto oposto:\"))\n",
    "cateto_adjacente = float(input('Digite o comprimento do cateto adjacente'))\n",
    "\n",
    "#processamento\n",
    "hipotenusa = (cateto_oposto ** 2 + cateto_adjacente ** 2) ** 0.5\n",
    "\n",
    "#saida\n",
    "print('A hipotenusa é igual a: {:.2f}'.format(hipotenusa))"
   ]
  },
  {
   "cell_type": "markdown",
   "metadata": {},
   "source": [
    "# EX18 Seno, Cosseno e Tangente\n",
    "\n",
    "import math\n",
    "\n",
    "#entrada\n",
    "angulo = int(input('Digite o ângulo que deseja descobrir o seno, cosseno e tangente:'))\n",
    "\n",
    "#processamento\n",
    "seno = math.sin(math.radians(angulo))\n",
    "cosseno = math.cos(math.radians(angulo))\n",
    "tangente = math.tan(math.radians(angulo))\n",
    "\n",
    "#saida\n",
    "print('O seno do angulo {} é de: {:.2f}'.format(angulo,seno))\n",
    "print('O cosseno do angulo {} é de: {:.2f}'.format(angulo,cosseno))\n",
    "print('A tangente do angulo {} é de: {:.2f}'.format(angulo,tangente))"
   ]
  },
  {
   "cell_type": "markdown",
   "metadata": {},
   "source": [
    "# EX19 Sorteando um item de uma lista\n",
    "\n",
    "import random\n",
    "\n",
    "#entrada\n",
    "aluno_1 = input('Digite o nome do primeiro aluno:')\n",
    "aluno_2 = input('Digite o nome do segundo aluno:')\n",
    "aluno_3 = input('Digite o nome do terceiro aluno:')\n",
    "aluno_4 = input('Digite o nome do quarto aluno:')\n",
    "\n",
    "#processamento\n",
    "lista = [aluno_1,aluno_2,aluno_3,aluno_4]\n",
    "sorteio = random.choice(lista)\n",
    "\n",
    "#saida\n",
    "print('O aluno escolhido foi o: {}'.format(sorteio))"
   ]
  },
  {
   "cell_type": "markdown",
   "metadata": {},
   "source": [
    "# EX20 Sorteando Uma Ordem\n",
    "\n",
    "\n",
    "import random\n",
    "\n",
    "#entrada\n",
    "aluno_1 = input('Digite o nome do primeiro aluno:')\n",
    "aluno_2 = input('Digite o nome do segundo aluno:')\n",
    "aluno_3 = input('Digite o nome do terceiro aluno:')\n",
    "aluno_4 = input('Digite o nome do quarto aluno:')\n",
    "\n",
    "#processamento\n",
    "\n",
    "lista = [aluno_1,aluno_2,aluno_3,aluno_4]\n",
    "random.shuffle(lista)\n",
    "\n",
    "#saida\n",
    "print('A ordem para apresentar o trabalho será: {}'.format(lista))"
   ]
  },
  {
   "cell_type": "markdown",
   "metadata": {},
   "source": [
    "# EX21 Criando MP# no Python\n",
    "\n",
    "import pygame\n",
    "\n",
    "#entrada/processamento/saida\n",
    "pygame.init()\n",
    "pygame.mixer.music.load('ex21.mp3)')\n",
    "pygame.mixer.music.play()\n",
    "pygame.event.wait()"
   ]
  },
  {
   "cell_type": "markdown",
   "metadata": {
    "collapsed": true
   },
   "source": [
    "# EX22 Analisando um Texto\n",
    "\n",
    "\n",
    "#entrada\n",
    "nome = str(input('Digite o seu nome completo:')).strip()\n",
    "\n",
    "#variaveis\n",
    "nome_maiusculo = nome.upper()\n",
    "nome_minusculo = nome.lower()\n",
    "qnt_letras = len(nome) - nome.count(' ')\n",
    "qnt_primeiro_nome = nome.find(' ')\n",
    "\n",
    "#saida\n",
    "print('Seu nome em maiúsculas é: {}'.format(nome_maiusculo))\n",
    "print('Seu nome em minúsculo é: {}'.format(nome_minusculo))\n",
    "print('A quantidade de letras em seu nome é de: {}'.format(qnt_letras))\n",
    "print('A quantidade de letras em seu primeiro nome é de: {}'.format(qnt_primeiro_nome))"
   ]
  },
  {
   "cell_type": "markdown",
   "metadata": {},
   "source": [
    "# EX23 separando digitos de Um número\n",
    "\n",
    "\n",
    "#entrada\n",
    "valor = int(input('Digite um número entre 0 e 9999:'))\n",
    "\n",
    "#variaveis\n",
    "unidade = valor // 1 % 10\n",
    "dezena = valor // 10 % 10\n",
    "centena = valor // 100 % 10\n",
    "milhar = valor // 1000 % 10\n",
    "\n",
    "#saida\n",
    "print('O valor da unidade é: {}'.format(unidade))\n",
    "print('O valor da dezena é: {}'.format(dezena))\n",
    "print('O valor da centana é: {}'.format(centena))\n",
    "print('O valor da milhar é: {}'.format(milhar))"
   ]
  },
  {
   "cell_type": "markdown",
   "metadata": {},
   "source": [
    "# EX24 Primeiras Letras de Um Texto\n",
    "\n",
    "\n",
    "#entrada\n",
    "nome_cidade = str(input('Digite o nome de uma cidade:')).strip()\n",
    "\n",
    "print(nome_cidade[:5].upper == 'SANTO')"
   ]
  },
  {
   "cell_type": "markdown",
   "metadata": {},
   "source": [
    "# EX25 Procurando String\n",
    "\n",
    "\n",
    "#entrada\n",
    "nome = str(input('Digite seu nome completo:')).strip()\n",
    "\n",
    "#saida\n",
    "print('Seu nome tem silva? {}'.format('SILVA' in nome.upper()))"
   ]
  },
  {
   "cell_type": "markdown",
   "metadata": {},
   "source": [
    "# EX26 Encontrando Quantos \"A\" Tem na Frase\n",
    "\n",
    "\n",
    "#entrada\n",
    "frase = str(input('Digite uma frase qualquer:')).upper().strip()\n",
    "\n",
    "#variaveis\n",
    "quantidade_a = frase.count('A')\n",
    "primeiro_a = frase.find('A') +1\n",
    "ultima_letra = frase.rfind('A') +1\n",
    "#saida\n",
    "print('Existem {} letras \"A\" nessa frase'.format(quantidade_a))\n",
    "print('O primeiro \"A\" está na posição: {}'.format(primeiro_a))\n",
    "print('A última letra \"A\" está na posição: {}'.format(ultima_letra))"
   ]
  },
  {
   "cell_type": "markdown",
   "metadata": {},
   "source": [
    "# EX27 Primeiro e Último Nome\n",
    "\n",
    "\n",
    "#entrada\n",
    "nome = str(input('Digite seu nome completo: ')).strip()\n",
    "\n",
    "#variaveis\n",
    "separar = nome.split()\n",
    "primeiro_nome = separar[0]\n",
    "ultimo_nome = separar[-1]\n",
    "\n",
    "#saida\n",
    "print('Seu primeiro nome é: {} e seu último nome é: {}'.format(primeiro_nome.title(),ultimo_nome.title()))"
   ]
  },
  {
   "cell_type": "markdown",
   "metadata": {},
   "source": [
    "# EX28 Jogo da Adivinhação\n",
    "\n",
    "import time\n",
    "import random\n",
    "\n",
    "\n",
    "#entrada\n",
    "valor = int(input('Tente adivinhar o número que eu pensei digitando um número de 0 a 5: '))\n",
    "\n",
    "#variaveis\n",
    "adivinhar = random.randint(0,5)\n",
    "\n",
    "#print do processando---------------------\n",
    "print('Processando valor .')\n",
    "time.sleep(0.5)\n",
    "print('Processando valor ..')\n",
    "time.sleep(0.5)\n",
    "print('Processando valor ...')\n",
    "time.sleep(0.5)\n",
    "#-----------------------------------------\n",
    "   \n",
    "#processamento/saida\n",
    "if adivinhar == valor:\n",
    "    print('Parabéns! Você Ganhou!')\n",
    "else:\n",
    "    print('Você perdeu! O número que eu pensei foi: {}. Tente novamente!'.format(adivinhar))"
   ]
  },
  {
   "cell_type": "markdown",
   "metadata": {},
   "source": [
    "# EX29 Radar Eletrônico\n",
    "\n",
    "\n",
    "#entrada\n",
    "velocidade_carro = int(input('Digite a velocidade do carro: '))\n",
    "\n",
    "#variaveis\n",
    "multa = (velocidade_carro - 80) * 7\n",
    "\n",
    "#processamento/saida\n",
    "if velocidade_carro <= 80:\n",
    "    print('Parabéns, você passou na velocidade correta')\n",
    "else:\n",
    "    print('Multado! você excedeu o limite de 80km/h')\n",
    "    print('Você deve pagar uma multa de: {} R$'.format(multa))\n",
    "print('Tenha um bom dia! Dirija com segurança')"
   ]
  },
  {
   "cell_type": "markdown",
   "metadata": {},
   "source": [
    "# EX30 Por ou Ímpar\n",
    "\n",
    "\n",
    "#entrada\n",
    "valor = int(input('Digite um número inteiro: '))\n",
    "\n",
    "#processamento/saida\n",
    "if valor % 2 == 0:\n",
    "    print('O número {} é par'.format(valor))\n",
    "else:\n",
    "    print('O número {} é ímpar'.format(valor))"
   ]
  },
  {
   "cell_type": "markdown",
   "metadata": {},
   "source": [
    "# EX31 Custo da viagem\n",
    "\n",
    "\n",
    "#entrada\n",
    "distancia_viagem = int(input('Digite a distancia da viagem em km: '))\n",
    "\n",
    "#variaveis\n",
    "viagem_curta = distancia_viagem * 0.50\n",
    "viagem_longa = distancia_viagem * 0.45\n",
    "\n",
    "#processamento/saida\n",
    "if distancia_viagem <= 200:\n",
    "    print('O preço da passagem dessa viagem é de: {} R$'.format(viagem_curta))\n",
    "else:\n",
    "    print('O preço da passagem dessa viagem é de: {} R$'.format(viagem_longa))"
   ]
  },
  {
   "cell_type": "markdown",
   "metadata": {},
   "source": [
    "# EX32 Ano Bissexto\n",
    "\n",
    "from datetime import date\n",
    "\n",
    "#entrada\n",
    "ano = int(input('Digite um ano para verificar se ele é bisexto ou 0 para vwerificar seu ano atual: '))\n",
    "\n",
    "#processamento/saida\n",
    "if ano == 0:\n",
    "    ano = date.today().year\n",
    "if ano % 100 != 0 and ano % 4 == 0 or ano % 400 == 0:\n",
    "    print('O ano de {} é Bissexto'.format(ano))\n",
    "else:\n",
    "    print('O ano de {} não é Bissexto'.format(ano))\n",
    "    "
   ]
  },
  {
   "cell_type": "markdown",
   "metadata": {},
   "source": [
    "# EX33 Maior e Menor valores\n",
    "\n",
    "\n",
    "#entrada\n",
    "n = int(input('Digite um número, para parar o programa digite -1 : '))\n",
    "\n",
    "#variaveis\n",
    "maior = n\n",
    "menor = n\n",
    "\n",
    "#processamento/saida\n",
    "while n >= 1:\n",
    "    if n > maior:\n",
    "        maior = n\n",
    "    n = int(input('Digite um valor inteiro:'))\n",
    "    if n < menor and n > 0:\n",
    "        menor = n\n",
    "if n <= -1:\n",
    "  print('o maior é:{}, o menor é {}'.format(maior,menor))\n",
    "else:\n",
    "    print('não foi digitado um valor valido')"
   ]
  },
  {
   "cell_type": "markdown",
   "metadata": {},
   "source": [
    "# EX34 Aumentos Múltiplos\n",
    "\n",
    "\n",
    "#entrada\n",
    "salario = float(input('Digite o seu salario para calcular o aumento: '))\n",
    "\n",
    "#variaveis\n",
    "aumento_1 = salario * 10 / 100\n",
    "aumento_2 = salario * 15 / 100\n",
    "\n",
    "#processamento/saida\n",
    "if salario > 1250:\n",
    "    print('Seu salário era de: {} R$ teve um aumento de: {} R$, seu novo salário será de: {} R$'.format(salario,aumento_1,salario + aumento_1))\n",
    "    \n",
    "else:\n",
    "        print('Seu salário era de: {} R$ teve um aumento de: {} R$, seu novo salário será de: {} R$'.format(salario,aumento_2,salario + aumento_1))"
   ]
  },
  {
   "cell_type": "markdown",
   "metadata": {},
   "source": [
    "# EX35 Analisando triângulo v1.0\n",
    "\n",
    "\n",
    "#entrada\n",
    "lado_1 = float(input('Digite o comprimento 1 do triângulo: '))\n",
    "lado_2 = float(input('Digite o comprimento 2 do triângulo: '))\n",
    "lado_3 = float(input('Digite o comprimento 3 do triângulo: '))\n",
    "\n",
    "#processamento/saida\n",
    "if lado_1 + lado_2 > lado_3 and lado_1 + lado_3 > lado_2 and lado_2 + lado_3 > lado_1:\n",
    "    print('OS lados {}, {} e {} formam triangulo.'.format(lado_1,lado_2,lado_3))\n",
    "else:\n",
    "    print('OS lados {}, {} e {} NÂO formam triangulo.'.format(lado_1,lado_2,lado_3))"
   ]
  },
  {
   "cell_type": "markdown",
   "metadata": {},
   "source": [
    "# EX36 Aprovando Emprestimo\n",
    "\n",
    "\n",
    "#entrada\n",
    "valor_casa = float(input('Digite o valor da casa: '))\n",
    "salario = float(input('Digite o salario do comprador da casa: '))\n",
    "financiamento = int(input('Digite quantos anos será financiado a casa:'))\n",
    "\n",
    "#variaveis\n",
    "salario_max = salario * 30 / 100\n",
    "anos = financiamento * 12\n",
    "prestacao = valor_casa / anos\n",
    "\n",
    "if salario_max > prestacao:\n",
    "    print('Prestação Não aprovada!!!')\n",
    "    print('A prestação seria de {:.2f} R$ para {} anos. O limite de 30% de seu salario seria de {} R$ para uma casa de {} R$.'.format(prestacao,financiamento,salario_max,valor_casa))\n",
    "else:\n",
    "    print('Prestação foi aprovada!!!')\n",
    "    print('A prestação seria de {:.2f} R$ para {} anos. O limite de 30% de seu salario seria de {} R$ para uma casa de {} R$.'.format(prestacao,financiamento,salario_max,valor_casa))"
   ]
  },
  {
   "cell_type": "markdown",
   "metadata": {},
   "source": [
    "# EX37 Conversor de bases Numéricas\n",
    "\n",
    "#entrada\n",
    "num = int(input('Digite um número inteiro: '))\n",
    "print('')\n",
    "\n",
    "print('''Escolha uma das bases para conversão:\n",
    "[ 1 ] converter para Binário \n",
    "[ 2 ] converter oara Octal\n",
    "[ 3 ] converter para Hexadecimal''')\n",
    "\n",
    "opcao = int(input('Digite sua opção: '))\n",
    "\n",
    "\n",
    "#processamento/saida\n",
    "if opcao == 1:\n",
    "    print('{} convertido para Binário fica: {}'.format(num,bin(num)[2:]))\n",
    "    \n",
    "elif opcao == 2:\n",
    "    print('{} convertido para Octal fica: {}'.format(num,oct(num)[2:]))\n",
    "    \n",
    "elif opcao == 3:\n",
    "    print('{} convertido para Hexadecimal fica: {}'.format(num,hex(num)[2:]))\n",
    "else:\n",
    "    print('Valor inválido tente novamente')"
   ]
  },
  {
   "cell_type": "code",
   "execution_count": null,
   "metadata": {
    "collapsed": true
   },
   "outputs": [],
   "source": []
  }
 ],
 "metadata": {
  "kernelspec": {
   "display_name": "Python 3",
   "language": "python",
   "name": "python3"
  },
  "language_info": {
   "codemirror_mode": {
    "name": "ipython",
    "version": 3
   },
   "file_extension": ".py",
   "mimetype": "text/x-python",
   "name": "python",
   "nbconvert_exporter": "python",
   "pygments_lexer": "ipython3",
   "version": "3.6.3"
  }
 },
 "nbformat": 4,
 "nbformat_minor": 2
}
